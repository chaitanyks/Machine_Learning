{
 "cells": [
  {
   "cell_type": "code",
   "execution_count": 3,
   "id": "35a2b2d3",
   "metadata": {},
   "outputs": [
    {
     "name": "stdout",
     "output_type": "stream",
     "text": [
      "(4, 6, 'mnu')\n"
     ]
    }
   ],
   "source": [
    "x = 4\n",
    "y = 6\n",
    "cordinates = (x,y,\"mnu\")\n",
    "print(cordinates)"
   ]
  },
  {
   "cell_type": "code",
   "execution_count": 5,
   "id": "4e83a1a6",
   "metadata": {},
   "outputs": [
    {
     "name": "stdout",
     "output_type": "stream",
     "text": [
      "{'Title': 'Frankenstein', 'Author': 'Mary Shelley', 'Year': 1818}\n"
     ]
    }
   ],
   "source": [
    "book_dictionary = {\"Title\": \"Frankenstein\", \"Author\": \"Mary Shelley\", \"Year\": 1818}\n",
    "print(book_dictionary)"
   ]
  },
  {
   "cell_type": "code",
   "execution_count": null,
   "id": "815d008e",
   "metadata": {},
   "outputs": [],
   "source": []
  }
 ],
 "metadata": {
  "kernelspec": {
   "display_name": "Python 3",
   "language": "python",
   "name": "python3"
  },
  "language_info": {
   "codemirror_mode": {
    "name": "ipython",
    "version": 3
   },
   "file_extension": ".py",
   "mimetype": "text/x-python",
   "name": "python",
   "nbconvert_exporter": "python",
   "pygments_lexer": "ipython3",
   "version": "3.8.8"
  }
 },
 "nbformat": 4,
 "nbformat_minor": 5
}
