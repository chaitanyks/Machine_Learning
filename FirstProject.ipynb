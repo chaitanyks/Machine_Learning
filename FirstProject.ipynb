{
 "cells": [
  {
   "cell_type": "code",
   "execution_count": 30,
   "metadata": {},
   "outputs": [],
   "source": [
    "%matplotlib inline\n",
    "\n",
    "import numpy as np\n",
    "import matplotlib.pyplot as plt\n",
    "import torch\n",
    "from tqdm.notebook import tqdm"
   ]
  },
  {
   "cell_type": "code",
   "execution_count": 31,
   "metadata": {},
   "outputs": [],
   "source": [
    "from torchvision import datasets, transforms\n",
    "mnist_train = datasets.MNIST(root=\"./datasets\", train = True, transform = transforms.ToTensor(), download = True)\n",
    "mnist_test = datasets.MNIST(root=\"./datasets\", train = False, transform = transforms.ToTensor(), download = True)"
   ]
  },
  {
   "cell_type": "code",
   "execution_count": 32,
   "metadata": {},
   "outputs": [
    {
     "name": "stdout",
     "output_type": "stream",
     "text": [
      "Number of mnist training examples: 60000\n",
      "Number of mnist test examples: 10000\n"
     ]
    }
   ],
   "source": [
    "print(\"Number of mnist training examples: {}\".format(len(mnist_train)))\n",
    "print(\"Number of mnist test examples: {}\".format(len(mnist_test)))"
   ]
  },
  {
   "cell_type": "code",
   "execution_count": 33,
   "metadata": {},
   "outputs": [
    {
     "name": "stdout",
     "output_type": "stream",
     "text": [
      "(tensor([[[0.0000, 0.0000, 0.0000, 0.0000, 0.0000, 0.0000, 0.0000, 0.0000,\n",
      "          0.0000, 0.0000, 0.0000, 0.0000, 0.0000, 0.0000, 0.0000, 0.0000,\n",
      "          0.0000, 0.0000, 0.0000, 0.0000, 0.0000, 0.0000, 0.0000, 0.0000,\n",
      "          0.0000, 0.0000, 0.0000, 0.0000],\n",
      "         [0.0000, 0.0000, 0.0000, 0.0000, 0.0000, 0.0000, 0.0000, 0.0000,\n",
      "          0.0000, 0.0000, 0.0000, 0.0000, 0.0000, 0.0000, 0.0000, 0.0000,\n",
      "          0.0000, 0.0000, 0.0000, 0.0000, 0.0000, 0.0000, 0.0000, 0.0000,\n",
      "          0.0000, 0.0000, 0.0000, 0.0000],\n",
      "         [0.0000, 0.0000, 0.0000, 0.0000, 0.0000, 0.0000, 0.0000, 0.0000,\n",
      "          0.0000, 0.0000, 0.0000, 0.0000, 0.0000, 0.0000, 0.0000, 0.0000,\n",
      "          0.0000, 0.0000, 0.0000, 0.0000, 0.0000, 0.0000, 0.0000, 0.0000,\n",
      "          0.0000, 0.0000, 0.0000, 0.0000],\n",
      "         [0.0000, 0.0000, 0.0000, 0.0000, 0.0000, 0.0000, 0.0000, 0.0000,\n",
      "          0.0000, 0.0000, 0.0000, 0.0000, 0.0000, 0.0000, 0.0000, 0.0000,\n",
      "          0.0000, 0.0000, 0.0000, 0.0000, 0.0000, 0.0000, 0.0000, 0.0000,\n",
      "          0.0000, 0.0000, 0.0000, 0.0000],\n",
      "         [0.0000, 0.0000, 0.0000, 0.0000, 0.0000, 0.0000, 0.0000, 0.0000,\n",
      "          0.0000, 0.0000, 0.0000, 0.0000, 0.0000, 0.0000, 0.0000, 0.0000,\n",
      "          0.0000, 0.0000, 0.0000, 0.0000, 0.0000, 0.0000, 0.0000, 0.0000,\n",
      "          0.0000, 0.0000, 0.0000, 0.0000],\n",
      "         [0.0000, 0.0000, 0.0000, 0.0000, 0.0000, 0.0000, 0.0000, 0.0000,\n",
      "          0.0000, 0.0000, 0.0000, 0.0000, 0.0000, 0.0000, 0.0000, 0.0000,\n",
      "          0.0000, 0.0000, 0.4863, 0.9922, 1.0000, 0.2471, 0.0000, 0.0000,\n",
      "          0.0000, 0.0000, 0.0000, 0.0000],\n",
      "         [0.0000, 0.0000, 0.0000, 0.0000, 0.0000, 0.0000, 0.0000, 0.0000,\n",
      "          0.0000, 0.0000, 0.0000, 0.0000, 0.0000, 0.0000, 0.0000, 0.0000,\n",
      "          0.0000, 0.3765, 0.9569, 0.9843, 0.9922, 0.2431, 0.0000, 0.0000,\n",
      "          0.0000, 0.0000, 0.0000, 0.0000],\n",
      "         [0.0000, 0.0000, 0.0000, 0.0000, 0.0000, 0.0000, 0.0000, 0.0000,\n",
      "          0.0000, 0.0000, 0.0000, 0.0000, 0.0000, 0.0000, 0.0000, 0.0000,\n",
      "          0.0000, 0.4980, 0.9843, 0.9843, 0.9922, 0.2431, 0.0000, 0.0000,\n",
      "          0.0000, 0.0000, 0.0000, 0.0000],\n",
      "         [0.0000, 0.0000, 0.0000, 0.0000, 0.0000, 0.0000, 0.0000, 0.0000,\n",
      "          0.0000, 0.0000, 0.0000, 0.0000, 0.0000, 0.0000, 0.0000, 0.0000,\n",
      "          0.2667, 0.9255, 0.9843, 0.8275, 0.1216, 0.0314, 0.0000, 0.0000,\n",
      "          0.0000, 0.0000, 0.0000, 0.0000],\n",
      "         [0.0000, 0.0000, 0.0000, 0.0000, 0.0000, 0.0000, 0.0000, 0.0000,\n",
      "          0.0000, 0.0000, 0.0000, 0.0000, 0.0000, 0.0000, 0.0000, 0.2353,\n",
      "          0.8941, 0.9843, 0.9843, 0.3686, 0.0000, 0.0000, 0.0000, 0.0000,\n",
      "          0.0000, 0.0000, 0.0000, 0.0000],\n",
      "         [0.0000, 0.0000, 0.0000, 0.0000, 0.0000, 0.0000, 0.0000, 0.0000,\n",
      "          0.0000, 0.0000, 0.0000, 0.0000, 0.0000, 0.0000, 0.0000, 0.6078,\n",
      "          0.9922, 0.9922, 0.7412, 0.0000, 0.0000, 0.0000, 0.0000, 0.0000,\n",
      "          0.0000, 0.0000, 0.0000, 0.0000],\n",
      "         [0.0000, 0.0000, 0.0000, 0.0000, 0.0000, 0.0000, 0.0000, 0.0000,\n",
      "          0.0000, 0.0000, 0.0000, 0.0000, 0.0000, 0.0000, 0.0784, 0.9922,\n",
      "          0.9843, 0.9216, 0.2588, 0.0000, 0.0000, 0.0000, 0.0000, 0.0000,\n",
      "          0.0000, 0.0000, 0.0000, 0.0000],\n",
      "         [0.0000, 0.0000, 0.0000, 0.0000, 0.0000, 0.0000, 0.0000, 0.0000,\n",
      "          0.0000, 0.0000, 0.0000, 0.0000, 0.0000, 0.1255, 0.8039, 0.9922,\n",
      "          0.9843, 0.4941, 0.0000, 0.0000, 0.0000, 0.0000, 0.0000, 0.0000,\n",
      "          0.0000, 0.0000, 0.0000, 0.0000],\n",
      "         [0.0000, 0.0000, 0.0000, 0.0000, 0.0000, 0.0000, 0.0000, 0.0000,\n",
      "          0.0000, 0.0000, 0.0000, 0.0000, 0.0000, 0.4078, 0.9843, 0.9922,\n",
      "          0.7216, 0.0588, 0.0000, 0.0000, 0.0000, 0.0000, 0.0000, 0.0000,\n",
      "          0.0000, 0.0000, 0.0000, 0.0000],\n",
      "         [0.0000, 0.0000, 0.0000, 0.0000, 0.0000, 0.0000, 0.0000, 0.0000,\n",
      "          0.0000, 0.0000, 0.0000, 0.0000, 0.3137, 0.9412, 0.9843, 0.7569,\n",
      "          0.0902, 0.0000, 0.0000, 0.0000, 0.0000, 0.0000, 0.0000, 0.0000,\n",
      "          0.0000, 0.0000, 0.0000, 0.0000],\n",
      "         [0.0000, 0.0000, 0.0000, 0.0000, 0.0000, 0.0000, 0.0000, 0.0000,\n",
      "          0.0000, 0.0000, 0.0000, 0.1255, 0.9922, 0.9922, 0.9922, 0.6235,\n",
      "          0.0000, 0.0000, 0.0000, 0.0000, 0.0000, 0.0000, 0.0000, 0.0000,\n",
      "          0.0000, 0.0000, 0.0000, 0.0000],\n",
      "         [0.0000, 0.0000, 0.0000, 0.0000, 0.0000, 0.0000, 0.0000, 0.0000,\n",
      "          0.0000, 0.0000, 0.0000, 0.5922, 0.9843, 0.9843, 0.9843, 0.1529,\n",
      "          0.0000, 0.0000, 0.0000, 0.0000, 0.0000, 0.0000, 0.0000, 0.0000,\n",
      "          0.0000, 0.0000, 0.0000, 0.0000],\n",
      "         [0.0000, 0.0000, 0.0000, 0.0000, 0.0000, 0.0000, 0.0000, 0.0000,\n",
      "          0.0000, 0.0000, 0.1882, 0.8667, 0.9843, 0.9843, 0.6745, 0.0000,\n",
      "          0.0000, 0.0000, 0.0000, 0.0000, 0.0000, 0.0000, 0.0000, 0.0000,\n",
      "          0.0000, 0.0000, 0.0000, 0.0000],\n",
      "         [0.0000, 0.0000, 0.0000, 0.0000, 0.0000, 0.0000, 0.0000, 0.0000,\n",
      "          0.0000, 0.0000, 0.9176, 0.9843, 0.9843, 0.7686, 0.0471, 0.0000,\n",
      "          0.0000, 0.0000, 0.0000, 0.0000, 0.0000, 0.0000, 0.0000, 0.0000,\n",
      "          0.0000, 0.0000, 0.0000, 0.0000],\n",
      "         [0.0000, 0.0000, 0.0000, 0.0000, 0.0000, 0.0000, 0.0000, 0.0000,\n",
      "          0.0000, 0.0000, 0.9922, 0.9843, 0.9843, 0.3490, 0.0000, 0.0000,\n",
      "          0.0000, 0.0000, 0.0000, 0.0000, 0.0000, 0.0000, 0.0000, 0.0000,\n",
      "          0.0000, 0.0000, 0.0000, 0.0000],\n",
      "         [0.0000, 0.0000, 0.0000, 0.0000, 0.0000, 0.0000, 0.0000, 0.0000,\n",
      "          0.0000, 0.6235, 1.0000, 0.9922, 0.9922, 0.1216, 0.0000, 0.0000,\n",
      "          0.0000, 0.0000, 0.0000, 0.0000, 0.0000, 0.0000, 0.0000, 0.0000,\n",
      "          0.0000, 0.0000, 0.0000, 0.0000],\n",
      "         [0.0000, 0.0000, 0.0000, 0.0000, 0.0000, 0.0000, 0.0000, 0.0000,\n",
      "          0.1882, 0.8941, 0.9922, 0.9686, 0.5490, 0.0314, 0.0000, 0.0000,\n",
      "          0.0000, 0.0000, 0.0000, 0.0000, 0.0000, 0.0000, 0.0000, 0.0000,\n",
      "          0.0000, 0.0000, 0.0000, 0.0000],\n",
      "         [0.0000, 0.0000, 0.0000, 0.0000, 0.0000, 0.0000, 0.0000, 0.0000,\n",
      "          0.2510, 0.9843, 0.9922, 0.8627, 0.0000, 0.0000, 0.0000, 0.0000,\n",
      "          0.0000, 0.0000, 0.0000, 0.0000, 0.0000, 0.0000, 0.0000, 0.0000,\n",
      "          0.0000, 0.0000, 0.0000, 0.0000],\n",
      "         [0.0000, 0.0000, 0.0000, 0.0000, 0.0000, 0.0000, 0.0000, 0.0000,\n",
      "          0.2510, 0.9843, 0.9922, 0.8627, 0.0000, 0.0000, 0.0000, 0.0000,\n",
      "          0.0000, 0.0000, 0.0000, 0.0000, 0.0000, 0.0000, 0.0000, 0.0000,\n",
      "          0.0000, 0.0000, 0.0000, 0.0000],\n",
      "         [0.0000, 0.0000, 0.0000, 0.0000, 0.0000, 0.0000, 0.0000, 0.0000,\n",
      "          0.0941, 0.7569, 0.9922, 0.8627, 0.0000, 0.0000, 0.0000, 0.0000,\n",
      "          0.0000, 0.0000, 0.0000, 0.0000, 0.0000, 0.0000, 0.0000, 0.0000,\n",
      "          0.0000, 0.0000, 0.0000, 0.0000],\n",
      "         [0.0000, 0.0000, 0.0000, 0.0000, 0.0000, 0.0000, 0.0000, 0.0000,\n",
      "          0.0000, 0.0000, 0.0000, 0.0000, 0.0000, 0.0000, 0.0000, 0.0000,\n",
      "          0.0000, 0.0000, 0.0000, 0.0000, 0.0000, 0.0000, 0.0000, 0.0000,\n",
      "          0.0000, 0.0000, 0.0000, 0.0000],\n",
      "         [0.0000, 0.0000, 0.0000, 0.0000, 0.0000, 0.0000, 0.0000, 0.0000,\n",
      "          0.0000, 0.0000, 0.0000, 0.0000, 0.0000, 0.0000, 0.0000, 0.0000,\n",
      "          0.0000, 0.0000, 0.0000, 0.0000, 0.0000, 0.0000, 0.0000, 0.0000,\n",
      "          0.0000, 0.0000, 0.0000, 0.0000],\n",
      "         [0.0000, 0.0000, 0.0000, 0.0000, 0.0000, 0.0000, 0.0000, 0.0000,\n",
      "          0.0000, 0.0000, 0.0000, 0.0000, 0.0000, 0.0000, 0.0000, 0.0000,\n",
      "          0.0000, 0.0000, 0.0000, 0.0000, 0.0000, 0.0000, 0.0000, 0.0000,\n",
      "          0.0000, 0.0000, 0.0000, 0.0000]]]), 1)\n"
     ]
    }
   ],
   "source": [
    "print(mnist_train[3])"
   ]
  },
  {
   "cell_type": "code",
   "execution_count": 34,
   "metadata": {},
   "outputs": [
    {
     "name": "stdout",
     "output_type": "stream",
     "text": [
      "default image shape : torch.Size([1, 28, 28])\n",
      "reshaped image shape : torch.Size([28, 28])\n",
      "label of the train data : 1\n"
     ]
    },
    {
     "data": {
      "image/png": "[encoded data removed]",
      "text/plain": [
       "<Figure size 432x288 with 1 Axes>"
      ]
     },
     "metadata": {
      "needs_background": "light"
     },
     "output_type": "display_data"
    }
   ],
   "source": [
    "image, label = mnist_train[3]\n",
    "print(\"default image shape : {}\".format(image.shape))\n",
    "image = image.reshape([28,28])\n",
    "print(\"reshaped image shape : {}\".format(image.shape))\n",
    "plt.imshow(image,cmap=\"gray\")\n",
    "\n",
    "print(\"label of the train data : {}\".format(label))"
   ]
  },
  {
   "cell_type": "code",
   "execution_count": 35,
   "metadata": {},
   "outputs": [],
   "source": [
    "train_loader = torch.utils.data.DataLoader(mnist_train, batch_size = 100, shuffle = True)\n",
    "test_loader = torch.utils.data.DataLoader(mnist_test, batch_size = 100, shuffle = False)"
   ]
  },
  {
   "cell_type": "code",
   "execution_count": 36,
   "metadata": {},
   "outputs": [
    {
     "name": "stdout",
     "output_type": "stream",
     "text": [
      "image shape : torch.Size([100, 1, 28, 28])\n",
      "label shape : torch.Size([100])\n",
      "tensor([7, 5, 9, 4, 9, 1, 9, 9, 4, 8, 4, 0, 8, 8, 8, 1, 8, 9, 3, 5, 3, 9, 6, 7,\n",
      "        4, 1, 7, 4, 1, 7, 5, 5, 9, 5, 0, 3, 5, 8, 2, 4, 6, 4, 2, 4, 5, 8, 7, 8,\n",
      "        9, 7, 7, 7, 9, 7, 0, 5, 6, 9, 7, 4, 3, 2, 1, 6, 2, 7, 0, 0, 6, 1, 5, 4,\n",
      "        1, 8, 7, 9, 1, 3, 4, 9, 3, 3, 5, 1, 0, 4, 4, 0, 5, 7, 9, 9, 0, 5, 2, 0,\n",
      "        4, 6, 6, 4])\n"
     ]
    }
   ],
   "source": [
    "data_train_iter = iter(train_loader)\n",
    "images, labels = data_train_iter.next()\n",
    "print(\"image shape : {}\".format(images.shape))\n",
    "print(\"label shape : {}\".format(labels.shape))\n",
    "print(labels)\n",
    "# print(images)"
   ]
  },
  {
   "cell_type": "code",
   "execution_count": 37,
   "metadata": {},
   "outputs": [
    {
     "name": "stdout",
     "output_type": "stream",
     "text": [
      "The shape of input x is: torch.Size([100, 784])\n"
     ]
    }
   ],
   "source": [
    "x = images.view(-1,28*28)\n",
    "print(\"The shape of input x is: {}\".format(x.shape))"
   ]
  },
  {
   "cell_type": "code",
   "execution_count": 38,
   "metadata": {},
   "outputs": [],
   "source": [
    "W = torch.randn(784,10)/np.sqrt(784)\n",
    "W.requires_grad_()\n",
    "\n",
    "b=torch.zeros(10,requires_grad = True)"
   ]
  },
  {
   "cell_type": "code",
   "execution_count": 39,
   "metadata": {},
   "outputs": [
    {
     "name": "stdout",
     "output_type": "stream",
     "text": [
      "tensor([[ 0.0360,  0.0603,  0.0024,  ..., -0.0474, -0.0170,  0.0256],\n",
      "        [ 0.0107, -0.0205,  0.0719,  ..., -0.0340, -0.0309,  0.0803],\n",
      "        [ 0.0059, -0.0113, -0.0356,  ...,  0.0299, -0.0163,  0.0091],\n",
      "        ...,\n",
      "        [-0.0510, -0.0382, -0.0344,  ..., -0.0344,  0.0842,  0.0424],\n",
      "        [-0.0341,  0.0293, -0.0012,  ..., -0.0002,  0.1016, -0.0701],\n",
      "        [ 0.0095, -0.0170,  0.0147,  ..., -0.0680, -0.0100,  0.0164]],\n",
      "       requires_grad=True)\n"
     ]
    }
   ],
   "source": [
    "print(W)"
   ]
  },
  {
   "cell_type": "code",
   "execution_count": 40,
   "metadata": {},
   "outputs": [],
   "source": [
    "y = torch.matmul(x,W)+b"
   ]
  },
  {
   "cell_type": "code",
   "execution_count": 41,
   "metadata": {},
   "outputs": [
    {
     "name": "stdout",
     "output_type": "stream",
     "text": [
      "tensor([-0.8907,  0.6329,  0.5252, -0.2621,  0.1483,  0.0024, -0.2084, -0.0299,\n",
      "        -0.3401, -0.2425], grad_fn=<SliceBackward>)\n"
     ]
    }
   ],
   "source": [
    "print(y[0,:])"
   ]
  },
  {
   "cell_type": "code",
   "execution_count": 42,
   "metadata": {},
   "outputs": [
    {
     "name": "stdout",
     "output_type": "stream",
     "text": [
      "py_eq[0] from the equation: tensor([0.0403, 0.1847, 0.1658, 0.0755, 0.1138, 0.0983, 0.0796, 0.0952, 0.0698,\n",
      "        0.0770], grad_fn=<SelectBackward>)\n"
     ]
    }
   ],
   "source": [
    "py_eq = torch.exp(y)/torch.sum(torch.exp(y),dim=1,keepdim=True)\n",
    "print(\"py_eq[0] from the equation: {}\".format(py_eq[0]))"
   ]
  },
  {
   "cell_type": "code",
   "execution_count": 43,
   "metadata": {},
   "outputs": [
    {
     "name": "stdout",
     "output_type": "stream",
     "text": [
      "py[0] with torch.nn.functional.softmax : tensor([0.0403, 0.1847, 0.1658, 0.0755, 0.1138, 0.0983, 0.0796, 0.0952, 0.0698,\n",
      "        0.0770], grad_fn=<SelectBackward>)\n"
     ]
    }
   ],
   "source": [
    "import torch.nn.functional as F\n",
    "py = F.softmax(y,dim=1)\n",
    "print(\"py[0] with torch.nn.functional.softmax : {}\".format(py[0]))"
   ]
  },
  {
   "cell_type": "code",
   "execution_count": 44,
   "metadata": {},
   "outputs": [
    {
     "name": "stdout",
     "output_type": "stream",
     "text": [
      "torch.Size([100])\n"
     ]
    }
   ],
   "source": [
    "print(labels.shape)"
   ]
  },
  {
   "cell_type": "code",
   "execution_count": 45,
   "metadata": {},
   "outputs": [
    {
     "name": "stdout",
     "output_type": "stream",
     "text": [
      "tensor([7, 5, 9, 4, 9, 1, 9, 9, 4, 8, 4, 0, 8, 8, 8, 1, 8, 9, 3, 5, 3, 9, 6, 7,\n",
      "        4, 1, 7, 4, 1, 7, 5, 5, 9, 5, 0, 3, 5, 8, 2, 4, 6, 4, 2, 4, 5, 8, 7, 8,\n",
      "        9, 7, 7, 7, 9, 7, 0, 5, 6, 9, 7, 4, 3, 2, 1, 6, 2, 7, 0, 0, 6, 1, 5, 4,\n",
      "        1, 8, 7, 9, 1, 3, 4, 9, 3, 3, 5, 1, 0, 4, 4, 0, 5, 7, 9, 9, 0, 5, 2, 0,\n",
      "        4, 6, 6, 4])\n"
     ]
    }
   ],
   "source": [
    "print(labels)"
   ]
  },
  {
   "cell_type": "code",
   "execution_count": 46,
   "metadata": {},
   "outputs": [
    {
     "name": "stdout",
     "output_type": "stream",
     "text": [
      "cross_entropy_eq from equation: 2.4264659881591797\n"
     ]
    }
   ],
   "source": [
    "cross_entropy_eq = torch.mean(-torch.log(py_eq)[range(labels.shape[0]),labels])\n",
    "print(\"cross_entropy_eq from equation: {}\".format(cross_entropy_eq))"
   ]
  },
  {
   "cell_type": "code",
   "execution_count": 47,
   "metadata": {},
   "outputs": [
    {
     "name": "stdout",
     "output_type": "stream",
     "text": [
      "cross entropy from torch.nn.functional.cross_entropy: 2.4264657497406006\n"
     ]
    }
   ],
   "source": [
    "cross_entropy = F.cross_entropy(y,labels)\n",
    "print(\"cross entropy from torch.nn.functional.cross_entropy: {}\".format(cross_entropy))"
   ]
  },
  {
   "cell_type": "code",
   "execution_count": 48,
   "metadata": {},
   "outputs": [
    {
     "name": "stdout",
     "output_type": "stream",
     "text": [
      "torch.Size([100, 10])\n"
     ]
    }
   ],
   "source": [
    "print(y.shape)"
   ]
  },
  {
   "cell_type": "code",
   "execution_count": 49,
   "metadata": {},
   "outputs": [],
   "source": [
    "optimizer = torch.optim.SGD([W,b],lr=0.1)"
   ]
  },
  {
   "cell_type": "code",
   "execution_count": 50,
   "metadata": {},
   "outputs": [],
   "source": [
    "cross_entropy.backward()"
   ]
  },
  {
   "cell_type": "code",
   "execution_count": 51,
   "metadata": {},
   "outputs": [
    {
     "data": {
      "text/plain": [
       "tensor([-0.0077,  0.0232,  0.0859,  0.0213, -0.0557, -0.0038,  0.0186, -0.0095,\n",
       "        -0.0021, -0.0702])"
      ]
     },
     "execution_count": 51,
     "metadata": {},
     "output_type": "execute_result"
    }
   ],
   "source": [
    "b.grad"
   ]
  },
  {
   "cell_type": "code",
   "execution_count": 52,
   "metadata": {},
   "outputs": [],
   "source": [
    "optimizer.step()"
   ]
  },
  {
   "cell_type": "code",
   "execution_count": 53,
   "metadata": {},
   "outputs": [
    {
     "data": {
      "text/plain": [
       "tensor([ 0.0008, -0.0023, -0.0086, -0.0021,  0.0056,  0.0004, -0.0019,  0.0010,\n",
       "         0.0002,  0.0070], requires_grad=True)"
      ]
     },
     "execution_count": 53,
     "metadata": {},
     "output_type": "execute_result"
    }
   ],
   "source": [
    "b\n"
   ]
  },
  {
   "cell_type": "code",
   "execution_count": 54,
   "metadata": {},
   "outputs": [
    {
     "name": "stdout",
     "output_type": "stream",
     "text": [
      "befor : tensor([-0.0077,  0.0232,  0.0859,  0.0213, -0.0557, -0.0038,  0.0186, -0.0095,\n",
      "        -0.0021, -0.0702])\n",
      "after : tensor([0., 0., 0., 0., 0., 0., 0., 0., 0., 0.])\n"
     ]
    }
   ],
   "source": [
    "print(\"befor : {}\".format(b.grad))\n",
    "optimizer.zero_grad()\n",
    "print(\"after : {}\".format(b.grad))"
   ]
  },
  {
   "cell_type": "code",
   "execution_count": 55,
   "metadata": {},
   "outputs": [
    {
     "data": {
      "application/vnd.jupyter.widget-view+json": {
       "model_id": "35eecfc0b6ee4b3fbce2c8e5c092c60d",
       "version_major": 2,
       "version_minor": 0
      },
      "text/plain": [
       "  0%|          | 0/600 [00:00<?, ?it/s]"
      ]
     },
     "metadata": {},
     "output_type": "display_data"
    }
   ],
   "source": [
    "for images,labels in tqdm(train_loader):\n",
    "    optimizer.zero_grad()\n",
    "    x=images.view(-1,28*28)\n",
    "    y=torch.matmul(x,W)+b\n",
    "    cross_entropy = F.cross_entropy(y,labels)\n",
    "    cross_entropy.backward()\n",
    "    optimizer.step()"
   ]
  },
  {
   "cell_type": "code",
   "execution_count": 56,
   "metadata": {},
   "outputs": [
    {
     "data": {
      "application/vnd.jupyter.widget-view+json": {
       "model_id": "a1e73670d3464c90b5cded9d5e748570",
       "version_major": 2,
       "version_minor": 0
      },
      "text/plain": [
       "  0%|          | 0/100 [00:00<?, ?it/s]"
      ]
     },
     "metadata": {},
     "output_type": "display_data"
    },
    {
     "name": "stdout",
     "output_type": "stream",
     "text": [
      "test accuracy : 90.27000427246094%\n"
     ]
    }
   ],
   "source": [
    "correct = 0\n",
    "total = len(mnist_test)\n",
    "\n",
    "with torch.no_grad():\n",
    "    for images, labels in tqdm(test_loader):\n",
    "        x = images.view(-1,28*28)\n",
    "        y= torch.matmul(x,W)+b\n",
    "        predictions = torch.argmax(y,dim=1)\n",
    "        correct += torch.sum((predictions==labels).float())\n",
    "print(\"test accuracy : {}%\".format(correct/total*100))"
   ]
  },
  {
   "cell_type": "code",
   "execution_count": 57,
   "metadata": {},
   "outputs": [
    {
     "data": {
      "application/vnd.jupyter.widget-view+json": {
       "model_id": "a7e52bd8b8f44f89833c0b3fadf2bc18",
       "version_major": 2,
       "version_minor": 0
      },
      "text/plain": [
       "  0%|          | 0/600 [00:00<?, ?it/s]"
      ]
     },
     "metadata": {},
     "output_type": "display_data"
    },
    {
     "data": {
      "application/vnd.jupyter.widget-view+json": {
       "model_id": "4c26c8c1e56b4447aa686b45daaf453a",
       "version_major": 2,
       "version_minor": 0
      },
      "text/plain": [
       "  0%|          | 0/100 [00:00<?, ?it/s]"
      ]
     },
     "metadata": {},
     "output_type": "display_data"
    },
    {
     "name": "stdout",
     "output_type": "stream",
     "text": [
      "test accuracy : 91.14999389648438%\n",
      "Max accuracy  : 91.14999389648438%\n"
     ]
    }
   ],
   "source": [
    "Wmax = 0\n",
    "Bmax = 0\n",
    "MaxAc = 0\n",
    "for i in range(1):\n",
    "    for images,labels in tqdm(train_loader):\n",
    "        optimizer.zero_grad()\n",
    "        x=images.view(-1,28*28)\n",
    "        y=torch.matmul(x,W)+b\n",
    "        cross_entropy = F.cross_entropy(y,labels)\n",
    "        cross_entropy.backward()\n",
    "        optimizer.step()\n",
    "    correct = 0\n",
    "    total = len(mnist_test)\n",
    "\n",
    "    with torch.no_grad():\n",
    "        for images, labels in tqdm(test_loader):\n",
    "            x = images.view(-1,28*28)\n",
    "            y= torch.matmul(x,W)+b\n",
    "            predictions = torch.argmax(y,dim=1)\n",
    "            correct += torch.sum((predictions==labels).float())\n",
    "    print(\"test accuracy : {}%\".format(correct/total*100))\n",
    "    if MaxAc<=(correct/total):\n",
    "        MaxAc = correct/total\n",
    "        Wmax = W\n",
    "        Bmax = b\n",
    "        print(\"Max accuracy  : {}%\".format(MaxAc*100))\n"
   ]
  },
  {
   "cell_type": "code",
   "execution_count": 71,
   "metadata": {},
   "outputs": [
    {
     "data": {
      "application/vnd.jupyter.widget-view+json": {
       "model_id": "702868e0e67f45f3ad01617f91e54741",
       "version_major": 2,
       "version_minor": 0
      },
      "text/plain": [
       "  0%|          | 0/100 [00:00<?, ?it/s]"
      ]
     },
     "metadata": {},
     "output_type": "display_data"
    },
    {
     "name": "stdout",
     "output_type": "stream",
     "text": [
      "test accuracy  : 91.14999389648438%\n",
      "torch.Size([784, 10])\n",
      "torch.Size([784, 10])\n"
     ]
    }
   ],
   "source": [
    "correct = 0\n",
    "total = len(mnist_test)\n",
    "\n",
    "with torch.no_grad():\n",
    "        for images, labels in tqdm(test_loader):\n",
    "            x = images.view(-1,28*28)\n",
    "            y= torch.matmul(x,W)+b\n",
    "            predictions = torch.argmax(y,dim=1)\n",
    "            correct += torch.sum((predictions==labels).float())\n",
    "print(\"test accuracy  : {}%\".format(correct/total*100))\n",
    "print(W.shape)\n",
    "print(Wmax.shape)"
   ]
  },
  {
   "cell_type": "code",
   "execution_count": 76,
   "metadata": {},
   "outputs": [
    {
     "name": "stdout",
     "output_type": "stream",
     "text": [
      "tensor([8, 9, 0, 1, 2, 9, 4, 5, 6, 7, 8, 0, 1, 2, 3, 4, 7, 8, 9, 7, 8, 6, 4, 1,\n",
      "        9, 2, 8, 4, 4, 7, 0, 1, 9, 2, 8, 7, 8, 2, 6, 0, 0, 6, 3, 5, 8, 9, 1, 4,\n",
      "        0, 6, 1, 0, 0, 6, 2, 1, 1, 7, 7, 8, 4, 6, 0, 7, 0, 3, 6, 8, 7, 1, 3, 2,\n",
      "        4, 9, 4, 2, 6, 4, 1, 7, 3, 6, 2, 0, 1, 2, 8, 4, 5, 6, 7, 8, 9, 0, 1, 2,\n",
      "        3, 4, 5, 6])\n"
     ]
    }
   ],
   "source": [
    "predictions = torch.argmax(y,dim=1)\n",
    "print(predictions)"
   ]
  },
  {
   "cell_type": "code",
   "execution_count": null,
   "metadata": {},
   "outputs": [],
   "source": []
  },
  {
   "cell_type": "code",
   "execution_count": 59,
   "metadata": {},
   "outputs": [
    {
     "data": {
      "image/png": "[encoded data removed]",
      "text/plain": [
       "<Figure size 1440x144 with 10 Axes>"
      ]
     },
     "metadata": {
      "needs_background": "light"
     },
     "output_type": "display_data"
    }
   ],
   "source": [
    "fig,ax = plt.subplots(1,10,figsize=(20,2))\n",
    "\n",
    "for digit in range(10):\n",
    "    ax[digit].imshow(W[:,digit].detach().view(28,28),cmap=\"gray\")"
   ]
  },
  {
   "cell_type": "code",
   "execution_count": 60,
   "metadata": {},
   "outputs": [
    {
     "name": "stdout",
     "output_type": "stream",
     "text": [
      "torch.Size([784, 10])\n"
     ]
    }
   ],
   "source": [
    "print(W.shape)"
   ]
  },
  {
   "cell_type": "code",
   "execution_count": 61,
   "metadata": {},
   "outputs": [
    {
     "name": "stdout",
     "output_type": "stream",
     "text": [
      "torch.Size([100, 10])\n"
     ]
    }
   ],
   "source": [
    "print(y.shape)"
   ]
  },
  {
   "cell_type": "code",
   "execution_count": 62,
   "metadata": {},
   "outputs": [
    {
     "name": "stdout",
     "output_type": "stream",
     "text": [
      "torch.Size([100, 784])\n"
     ]
    }
   ],
   "source": [
    "print(x.shape)"
   ]
  },
  {
   "cell_type": "code",
   "execution_count": 63,
   "metadata": {},
   "outputs": [
    {
     "name": "stdout",
     "output_type": "stream",
     "text": [
      "tensor([-1.9814,  0.8872,  0.9610,  0.6360, -1.3311,  2.1168, -1.0281, -3.5937,\n",
      "         4.7348, -1.6015])\n"
     ]
    }
   ],
   "source": [
    "print(y[0])\n"
   ]
  },
  {
   "cell_type": "code",
   "execution_count": 67,
   "metadata": {},
   "outputs": [
    {
     "name": "stdout",
     "output_type": "stream",
     "text": [
      "x after ReLU with nn.functional: tensor([[ 0.0000,  0.8872,  0.9610,  0.6360,  0.0000,  2.1168,  0.0000,  0.0000,\n",
      "          4.7348,  0.0000],\n",
      "        [ 0.0000,  0.0000,  0.0000,  0.0000,  4.6315,  1.7901,  0.0000,  0.1127,\n",
      "          2.8745,  4.7279],\n",
      "        [ 6.2346,  0.0000,  0.0000,  0.0000,  0.0000,  4.3915,  0.0000,  0.2680,\n",
      "          0.0000,  0.0000],\n",
      "        [ 0.0000,  5.2492,  1.5972,  0.5892,  0.4821,  0.0000,  0.0000,  0.0000,\n",
      "          2.6734,  0.0000],\n",
      "        [ 0.9838,  0.0000,  2.1972,  0.5393,  0.7889,  0.5518,  0.0000,  0.0000,\n",
      "          0.0000,  0.0000],\n",
      "        [ 0.0000,  0.0000,  1.6034,  0.0000,  0.0000,  0.0000,  0.0000,  4.1153,\n",
      "          2.5929,  4.9794],\n",
      "        [ 0.0000,  0.0000,  1.1252,  0.0000,  4.7742,  0.0000,  2.4852,  0.0000,\n",
      "          1.6386,  0.0000],\n",
      "        [ 1.2070,  0.0000,  0.7705,  0.0000,  0.0000,  4.5155,  0.1446,  0.0000,\n",
      "          2.0439,  0.0000],\n",
      "        [ 1.8812,  0.0000,  1.3748,  0.0000,  0.8547,  1.7431,  8.2780,  0.0000,\n",
      "          0.0000,  0.0000],\n",
      "        [ 0.2189,  0.0000,  0.0000,  0.0000,  0.0964,  1.2062,  0.0000,  8.0562,\n",
      "          1.1891,  5.1396],\n",
      "        [ 0.0000,  1.2023,  0.0000,  1.9889,  0.0000,  2.7121,  0.0000,  0.0000,\n",
      "          4.6883,  0.1694],\n",
      "        [ 8.1740,  0.0000,  0.0000,  0.0000,  0.0000,  5.2885,  0.0000,  0.2244,\n",
      "          0.0000,  0.0000],\n",
      "        [ 0.0000,  4.5120,  1.7832,  1.7618,  0.0000,  0.0000,  0.0000,  0.0000,\n",
      "          2.8851,  0.0000],\n",
      "        [ 0.0000,  0.0000,  6.2983,  0.0000,  0.0000,  0.0000,  0.0000,  0.0000,\n",
      "          3.8571,  1.1427],\n",
      "        [ 0.0000,  0.0000,  0.0254,  4.9541,  0.0000,  0.0000,  0.0000,  1.2499,\n",
      "          2.6763,  3.1672],\n",
      "        [ 0.0000,  0.0146,  0.0000,  0.0000,  7.0545,  0.1194,  1.9748,  0.0000,\n",
      "          0.8512,  0.0000],\n",
      "        [ 2.0490,  0.0000,  0.0000,  0.0000,  0.0718,  1.6595,  0.0000,  6.0245,\n",
      "          1.3613,  5.1771],\n",
      "        [ 0.0000,  0.0000,  1.3246,  0.0000,  0.0000,  3.7316,  0.6113,  0.0000,\n",
      "          7.8743,  0.0000],\n",
      "        [ 0.2523,  0.0000,  0.0000,  0.0000,  3.2206,  0.0000,  0.0000,  2.4187,\n",
      "          2.0461,  4.9838],\n",
      "        [ 0.0000,  0.0000,  0.0000,  0.0000,  1.8768,  0.3494,  0.0000,  7.9676,\n",
      "          0.0000,  6.9071],\n",
      "        [ 0.0000,  0.0000,  0.0492,  1.0705,  0.0000,  2.7780,  0.0000,  0.0000,\n",
      "          6.2888,  1.1511],\n",
      "        [ 0.7987,  0.0000,  3.9176,  0.0000,  0.0000,  1.0203,  5.1307,  0.0000,\n",
      "          0.0634,  0.0000],\n",
      "        [ 0.0000,  0.0000,  0.0000,  0.0000,  3.5354,  1.3784,  0.0000,  0.8411,\n",
      "          1.2851,  1.0467],\n",
      "        [ 0.0000,  7.0685,  2.2203,  0.1020,  0.0000,  0.0000,  0.0000,  0.0000,\n",
      "          1.9987,  0.0000],\n",
      "        [ 1.1811,  0.0000,  0.0000,  0.0000,  3.7688,  0.4149,  0.0000,  2.2312,\n",
      "          0.4666,  5.1535],\n",
      "        [ 0.0000,  0.0000,  2.6244,  1.7306,  0.0000,  0.0997,  0.0000,  0.7358,\n",
      "          2.0339,  0.9732],\n",
      "        [ 0.0000,  0.2739,  2.0310,  0.5467,  0.0000,  1.2847,  0.0000,  0.0000,\n",
      "          3.3315,  0.0000],\n",
      "        [ 0.0000,  0.0000,  0.0000,  0.0000,  6.4925,  0.0000,  1.6919,  2.4044,\n",
      "          0.4177,  2.8975],\n",
      "        [ 0.0000,  0.0000,  0.0000,  0.0000,  5.9568,  0.0000,  0.4197,  1.4188,\n",
      "          0.4209,  3.6135],\n",
      "        [ 0.0000,  0.0000,  0.0000,  0.0000,  0.0000,  0.0000,  0.0000,  8.1985,\n",
      "          1.2880,  6.3993],\n",
      "        [ 8.7572,  0.0000,  0.0000,  1.7193,  0.0000,  4.5813,  0.8328,  0.0000,\n",
      "          2.5174,  0.0000],\n",
      "        [ 0.0000,  6.0680,  1.2375,  1.2559,  0.0000,  0.0000,  0.0000,  0.1535,\n",
      "          1.2179,  0.0000],\n",
      "        [ 0.4687,  0.0000,  0.3084,  0.0000,  1.4795,  0.0000,  0.0000,  3.9103,\n",
      "          1.7260,  5.8488],\n",
      "        [ 0.0000,  0.0000,  6.5869,  0.9141,  0.3836,  0.6294,  0.0000,  0.0000,\n",
      "          0.0000,  1.1210],\n",
      "        [ 0.0000,  1.5050,  0.9251,  3.0891,  0.0000,  1.9180,  0.0000,  0.0000,\n",
      "          5.4374,  0.0000],\n",
      "        [ 0.0000,  0.0000,  0.0000,  0.1127,  0.0000,  0.0000,  0.0000,  8.0573,\n",
      "          0.0000,  5.3434],\n",
      "        [ 0.0000,  0.0000,  0.0000,  2.1339,  0.0000,  3.4311,  0.0000,  0.0000,\n",
      "          4.7136,  1.1808],\n",
      "        [ 0.5370,  0.0000,  4.0056,  2.8404,  1.0326,  1.4717,  1.2194,  0.0000,\n",
      "          0.0000,  0.0000],\n",
      "        [ 2.1254,  0.0000,  1.4869,  0.0000,  0.0000,  2.0920,  7.7589,  0.0000,\n",
      "          0.0000,  0.0000],\n",
      "        [10.0645,  0.0000,  0.0000,  0.0000,  0.0000,  7.0417,  0.9987,  0.0000,\n",
      "          0.0000,  0.0000],\n",
      "        [ 3.6871,  0.0000,  1.2467,  0.0000,  0.8322,  1.2002,  3.6656,  0.0000,\n",
      "          0.0000,  0.2488],\n",
      "        [ 0.2519,  0.0000,  2.4667,  2.5533,  0.0000,  1.6016,  4.2793,  0.0000,\n",
      "          0.9217,  0.0000],\n",
      "        [ 0.0000,  0.0000,  0.0000,  8.2971,  0.0000,  5.0664,  0.0000,  0.0000,\n",
      "          3.2336,  0.0000],\n",
      "        [ 0.0000,  0.0000,  0.0000,  3.0987,  0.0000,  4.0822,  0.0000,  0.3696,\n",
      "          3.7710,  1.5660],\n",
      "        [ 0.0000,  0.0000,  0.0000,  0.0000,  1.1513,  1.6771,  0.0000,  1.1390,\n",
      "          3.9166,  3.8256],\n",
      "        [ 0.0000,  0.0000,  0.0000,  0.0000,  5.2880,  0.3765,  0.0000,  1.8865,\n",
      "          1.7431,  6.2521],\n",
      "        [ 0.0000,  6.1840,  1.5402,  1.7933,  0.0000,  0.0000,  0.0000,  0.0000,\n",
      "          1.4395,  0.0000],\n",
      "        [ 1.9648,  0.0000,  0.0000,  0.0000,  5.6779,  0.0421,  3.8720,  1.4074,\n",
      "          0.0000,  0.3732],\n",
      "        [ 7.5329,  0.0000,  0.0000,  2.3548,  0.0000,  6.0586,  0.0000,  0.0000,\n",
      "          0.4696,  0.0000],\n",
      "        [ 2.5963,  0.0000,  1.4910,  0.0000,  0.2523,  0.0000,  7.2826,  0.0000,\n",
      "          0.0000,  1.1325],\n",
      "        [ 0.0000,  6.1208,  1.4325,  0.9524,  0.0000,  0.0000,  0.0000,  0.0000,\n",
      "          1.6414,  0.0000],\n",
      "        [ 6.2803,  0.0000,  0.0000,  1.4011,  0.0000,  3.8168,  0.0000,  1.8271,\n",
      "          0.0000,  0.0000],\n",
      "        [11.6715,  0.0000,  0.0000,  0.5053,  0.0000,  8.1124,  1.8681,  0.0000,\n",
      "          1.0652,  0.0000],\n",
      "        [ 3.5285,  0.0000,  1.6926,  0.0000,  0.0000,  1.1928,  3.6873,  0.0000,\n",
      "          0.0000,  0.2790],\n",
      "        [ 3.0752,  0.0000,  3.7702,  2.0220,  0.0000,  0.2031,  0.3766,  0.0000,\n",
      "          3.5645,  0.0000],\n",
      "        [ 0.0000,  4.2396,  2.3199,  0.6467,  0.0000,  0.0000,  0.0000,  0.0000,\n",
      "          2.7900,  0.0000],\n",
      "        [ 0.0000,  5.9946,  2.6115,  0.3356,  0.0000,  0.0000,  0.0000,  0.0000,\n",
      "          1.9246,  0.0000],\n",
      "        [ 0.3684,  0.0000,  0.0000,  0.0000,  0.0000,  0.1911,  0.0000,  6.8403,\n",
      "          0.9644,  5.5939],\n",
      "        [ 0.0000,  0.0000,  0.6289,  1.7085,  0.0000,  0.0000,  0.0000,  5.3887,\n",
      "          0.0697,  3.1320],\n",
      "        [ 0.0000,  1.5438,  0.9118,  1.4721,  0.0000,  0.0000,  0.0000,  1.9206,\n",
      "          2.0266,  0.0000],\n",
      "        [ 0.0000,  0.0000,  0.0000,  0.0000,  7.5102,  0.0000,  0.0000,  4.0268,\n",
      "          1.3834,  4.5771],\n",
      "        [ 0.0000,  0.0000,  2.1867,  0.0000,  2.0768,  0.0000,  7.0093,  0.0000,\n",
      "          0.2796,  0.0000],\n",
      "        [ 6.6241,  0.0000,  0.0000,  3.2604,  0.0000,  3.3006,  0.0000,  0.4172,\n",
      "          0.0000,  0.0000],\n",
      "        [ 1.7358,  0.0000,  0.0000,  0.2576,  0.0000,  1.1398,  0.0000,  7.4488,\n",
      "          0.6992,  3.8956],\n",
      "        [ 7.7179,  0.0000,  0.0753,  2.6572,  0.0000,  4.4138,  1.4659,  0.0000,\n",
      "          0.0000,  0.0000],\n",
      "        [ 0.0000,  0.1236,  1.4716,  5.2252,  0.0000,  1.7563,  0.0000,  0.0000,\n",
      "          1.8711,  0.0000],\n",
      "        [ 2.0687,  0.0000,  2.0565,  0.0000,  1.4327,  1.8881,  6.3128,  0.0000,\n",
      "          0.0000,  0.0000],\n",
      "        [ 0.0000,  0.0000,  0.0000,  2.2890,  0.0000,  3.7716,  0.0000,  0.0000,\n",
      "          5.2361,  0.0000],\n",
      "        [ 0.0000,  0.0000,  0.0000,  0.0000,  0.0000,  0.0000,  0.0000,  7.8328,\n",
      "          0.5019,  3.6311],\n",
      "        [ 0.0000,  6.3682,  1.5716,  0.3574,  0.0000,  0.0000,  0.0000,  0.0740,\n",
      "          1.4718,  0.0000],\n",
      "        [ 0.0000,  0.0000,  2.9929,  4.6743,  0.0000,  1.5440,  1.4813,  0.0000,\n",
      "          0.0000,  0.0000],\n",
      "        [ 1.5241,  0.0000,  6.2561,  0.0000,  0.0000,  0.0000,  0.0000,  1.0711,\n",
      "          0.8336,  0.0000],\n",
      "        [ 0.0000,  0.0000,  0.0000,  0.0000,  7.3148,  0.0000,  0.6292,  1.6342,\n",
      "          0.9733,  3.6410],\n",
      "        [ 0.0000,  0.0000,  0.0000,  0.0000,  4.6480,  0.0000,  0.0000,  2.2917,\n",
      "          2.0331,  6.1805],\n",
      "        [ 0.0000,  0.0000,  0.0000,  0.0000,  7.6029,  0.0000,  1.6756,  0.3434,\n",
      "          0.3744,  2.4560],\n",
      "        [ 0.0000,  0.0000,  3.8189,  2.4704,  0.0000,  0.3516,  0.0000,  0.0000,\n",
      "          1.8705,  0.9412],\n",
      "        [ 0.0000,  0.0000,  0.5437,  0.0000,  1.5047,  0.0000,  5.2031,  0.0000,\n",
      "          1.4010,  0.6993],\n",
      "        [ 0.0000,  0.0000,  0.0000,  0.0000,  6.2315,  0.0000,  0.4451,  1.8720,\n",
      "          0.5854,  1.4680],\n",
      "        [ 0.0000,  6.5572,  2.1921,  1.3016,  0.0000,  0.0000,  0.0000,  0.0000,\n",
      "          1.9970,  0.0000],\n",
      "        [ 1.1601,  0.0000,  0.0000,  0.0000,  0.9633,  0.2957,  0.0000,  8.0403,\n",
      "          0.3219,  5.2133],\n",
      "        [ 2.6354,  0.0000,  6.0950,  6.4513,  0.0000,  1.5938,  0.0000,  0.0000,\n",
      "          2.7784,  0.0000],\n",
      "        [ 0.5464,  0.0000,  2.1570,  0.0000,  0.2257,  2.0972,  4.2902,  0.0000,\n",
      "          0.0000,  0.0000],\n",
      "        [ 0.0000,  0.0000,  3.9380,  0.5172,  0.0000,  0.0000,  3.9294,  0.5554,\n",
      "          0.0000,  0.4950],\n",
      "        [13.4671,  0.0000,  0.0000,  1.2598,  0.0000,  7.5400,  0.0000,  0.0000,\n",
      "          3.9924,  0.0000],\n",
      "        [ 0.0000,  5.7290,  0.3298,  2.0314,  0.0000,  0.0000,  0.0000,  1.9575,\n",
      "          1.5226,  1.1367],\n",
      "        [ 0.0000,  0.0000,  4.4989,  1.8967,  0.0000,  0.0000,  0.0000,  3.3429,\n",
      "          2.8969,  0.6911],\n",
      "        [ 0.0000,  0.0000,  1.1008,  3.7397,  0.0000,  2.2952,  0.0000,  0.7867,\n",
      "          4.7873,  0.7517],\n",
      "        [ 0.0000,  0.0000,  0.0000,  0.0000,  7.9576,  1.7169,  0.0877,  0.0000,\n",
      "          2.7214,  3.7041],\n",
      "        [ 0.3960,  0.0000,  0.0000,  2.9093,  0.0000,  7.6036,  0.0000,  0.0000,\n",
      "          2.6415,  0.0000],\n",
      "        [ 0.1412,  0.0000,  3.4080,  0.0000,  0.0000,  1.1509, 10.5719,  0.0000,\n",
      "          1.8253,  0.0000],\n",
      "        [ 0.0000,  0.0000,  0.7073,  1.6159,  0.0000,  0.0000,  0.0000,  9.2200,\n",
      "          1.2392,  4.4390],\n",
      "        [ 0.2001,  0.0000,  1.5717,  5.8376,  0.0000,  3.7914,  0.0000,  0.0000,\n",
      "          7.9598,  0.0000],\n",
      "        [ 0.4312,  0.0000,  0.0000,  0.0000,  5.7830,  0.0000,  0.0514,  0.8511,\n",
      "          1.1846,  6.7206],\n",
      "        [ 9.6960,  0.0000,  0.0000,  0.2726,  0.0000,  7.3357,  0.8795,  0.0000,\n",
      "          4.6663,  0.0000],\n",
      "        [ 0.0000,  7.3349,  2.4537,  0.5879,  0.0000,  0.0000,  0.5208,  0.0000,\n",
      "          2.4678,  0.0000],\n",
      "        [ 0.0000,  0.0000, 10.6495,  4.3696,  0.0000,  0.0000,  0.0000,  0.0000,\n",
      "          3.1221,  0.0000],\n",
      "        [ 0.2169,  0.0000,  3.9306, 10.2914,  0.0000,  2.5137,  0.0000,  1.7114,\n",
      "          0.3502,  0.0000],\n",
      "        [ 0.0000,  0.0000,  0.0000,  0.0000,  6.7838,  1.7853,  0.0000,  1.6931,\n",
      "          2.7022,  3.5423],\n",
      "        [ 0.0000,  0.0000,  0.0000,  0.0000,  0.2751,  4.3246,  0.1534,  0.0000,\n",
      "          3.5851,  0.0000],\n",
      "        [ 3.5569,  0.0000,  4.5630,  0.0000,  0.2690,  1.4655, 11.5653,  0.0000,\n",
      "          0.0000,  0.0000]])\n"
     ]
    }
   ],
   "source": [
    "import torch.nn.functional as F\n",
    "\n",
    "x_relu_F = F.relu(y)\n",
    "\n",
    "print(\"x after ReLU with nn.functional: {}\".format(x_relu_F))"
   ]
  }
 ],
 "metadata": {
  "kernelspec": {
   "display_name": "Python 3",
   "language": "python",
   "name": "python3"
  },
  "language_info": {
   "codemirror_mode": {
    "name": "ipython",
    "version": 3
   },
   "file_extension": ".py",
   "mimetype": "text/x-python",
   "name": "python",
   "nbconvert_exporter": "python",
   "pygments_lexer": "ipython3",
   "version": "3.6.13"
  }
 },
 "nbformat": 4,
 "nbformat_minor": 4
}
