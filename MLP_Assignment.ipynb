{
 "cells": [
  {
   "cell_type": "code",
   "execution_count": 14,
   "id": "ef2eb56f",
   "metadata": {},
   "outputs": [],
   "source": [
    "%matplotlib inline\n",
    "\n",
    "import numpy as np\n",
    "import matplotlib.pyplot as plt\n",
    "import torch\n",
    "from tqdm.notebook import tqdm\n",
    "import torch.nn.functional as F"
   ]
  },
  {
   "cell_type": "code",
   "execution_count": 15,
   "id": "4da9f7f3",
   "metadata": {},
   "outputs": [],
   "source": [
    "from torchvision import datasets, transforms\n",
    "mnist_train = datasets.MNIST(root=\"./datasets\", train = True, transform = transforms.ToTensor(), download = True)\n",
    "mnist_test = datasets.MNIST(root=\"./datasets\", train = False, transform = transforms.ToTensor(), download = True)"
   ]
  },
  {
   "cell_type": "code",
   "execution_count": 16,
   "id": "d8395628",
   "metadata": {},
   "outputs": [],
   "source": [
    "train_loader = torch.utils.data.DataLoader(mnist_train, batch_size = 100, shuffle = True)\n",
    "test_loader = torch.utils.data.DataLoader(mnist_test, batch_size = 100, shuffle = False)"
   ]
  },
  {
   "cell_type": "code",
   "execution_count": 17,
   "id": "1f54cf24",
   "metadata": {},
   "outputs": [],
   "source": [
    "W1 = torch.randn(784,500)/np.sqrt(784)\n",
    "W1.requires_grad_()\n",
    "\n",
    "b1=torch.zeros(500,requires_grad = True)"
   ]
  },
  {
   "cell_type": "code",
   "execution_count": 29,
   "id": "f8efe83f",
   "metadata": {},
   "outputs": [],
   "source": [
    "W2 = torch.randn(500,10)/np.sqrt(784)\n",
    "W2.requires_grad_()\n",
    "\n",
    "b2=torch.zeros(10,requires_grad = True)"
   ]
  },
  {
   "cell_type": "code",
   "execution_count": 30,
   "id": "c521933a",
   "metadata": {},
   "outputs": [],
   "source": [
    "optimizer = torch.optim.SGD([W1,W2,b1,b2],lr=0.1)"
   ]
  },
  {
   "cell_type": "code",
   "execution_count": null,
   "id": "064c1d91",
   "metadata": {},
   "outputs": [],
   "source": []
  },
  {
   "cell_type": "code",
   "execution_count": 36,
   "id": "059bf771",
   "metadata": {},
   "outputs": [
    {
     "data": {
      "application/vnd.jupyter.widget-view+json": {
       "model_id": "749372224cc74f63a8ae50022444bedc",
       "version_major": 2,
       "version_minor": 0
      },
      "text/plain": [
       "  0%|          | 0/600 [00:00<?, ?it/s]"
      ]
     },
     "metadata": {},
     "output_type": "display_data"
    },
    {
     "data": {
      "application/vnd.jupyter.widget-view+json": {
       "model_id": "03f1288de6404c8287303dae23f4dd83",
       "version_major": 2,
       "version_minor": 0
      },
      "text/plain": [
       "  0%|          | 0/600 [00:00<?, ?it/s]"
      ]
     },
     "metadata": {},
     "output_type": "display_data"
    },
    {
     "data": {
      "application/vnd.jupyter.widget-view+json": {
       "model_id": "3ca5de9fa2ef4c8e89f49ee78f707b73",
       "version_major": 2,
       "version_minor": 0
      },
      "text/plain": [
       "  0%|          | 0/600 [00:00<?, ?it/s]"
      ]
     },
     "metadata": {},
     "output_type": "display_data"
    }
   ],
   "source": [
    "epoches = 3\n",
    "for epoch in range(epoches):\n",
    "    for images,labels in tqdm(train_loader):\n",
    "        optimizer.zero_grad()\n",
    "        x=images.view(-1,28*28)\n",
    "        y1=torch.matmul(x,W1)+b1\n",
    "        x_relu_F = F.relu(y1)\n",
    "        y=torch.matmul(x_relu_F,W2)+b2\n",
    "        cross_entropy = F.cross_entropy(y,labels)\n",
    "        cross_entropy.backward()\n",
    "        optimizer.step()"
   ]
  },
  {
   "cell_type": "code",
   "execution_count": 37,
   "id": "d98b5309",
   "metadata": {},
   "outputs": [
    {
     "data": {
      "application/vnd.jupyter.widget-view+json": {
       "model_id": "7b4e46c8d75a4ae281bfcf3b1f456a1d",
       "version_major": 2,
       "version_minor": 0
      },
      "text/plain": [
       "  0%|          | 0/100 [00:00<?, ?it/s]"
      ]
     },
     "metadata": {},
     "output_type": "display_data"
    },
    {
     "name": "stdout",
     "output_type": "stream",
     "text": [
      "test accuracy : 94.55999755859375%\n"
     ]
    }
   ],
   "source": [
    "correct = 0\n",
    "total = len(mnist_test)\n",
    "\n",
    "with torch.no_grad():\n",
    "    for images, labels in tqdm(test_loader):\n",
    "        x = images.view(-1,28*28)\n",
    "        y1=torch.matmul(x,W1)+b1\n",
    "        x_relu_F = F.relu(y1)\n",
    "        y=torch.matmul(x_relu_F,W2)+b2\n",
    "        predictions = torch.argmax(y,dim=1)\n",
    "        correct += torch.sum((predictions==labels).float())\n",
    "print(\"test accuracy : {}%\".format(correct/total*100))"
   ]
  },
  {
   "cell_type": "code",
   "execution_count": 23,
   "id": "c0b824e5",
   "metadata": {},
   "outputs": [
    {
     "name": "stdout",
     "output_type": "stream",
     "text": [
      "torch.Size([784, 500])\n"
     ]
    }
   ],
   "source": [
    "print(W1.shape)"
   ]
  },
  {
   "cell_type": "code",
   "execution_count": 26,
   "id": "a9162536",
   "metadata": {},
   "outputs": [
    {
     "name": "stdout",
     "output_type": "stream",
     "text": [
      "torch.Size([100, 10])\n"
     ]
    }
   ],
   "source": [
    "print(y.shape)"
   ]
  },
  {
   "cell_type": "code",
   "execution_count": 38,
   "id": "4eebbb41",
   "metadata": {},
   "outputs": [
    {
     "data": {
      "application/vnd.jupyter.widget-view+json": {
       "model_id": "cbe0cd0807454b67ac24d3f1c8d04fef",
       "version_major": 2,
       "version_minor": 0
      },
      "text/plain": [
       "  0%|          | 0/600 [00:00<?, ?it/s]"
      ]
     },
     "metadata": {},
     "output_type": "display_data"
    },
    {
     "data": {
      "application/vnd.jupyter.widget-view+json": {
       "model_id": "8ed9d024c0e14f4da7cf6f90f890dd99",
       "version_major": 2,
       "version_minor": 0
      },
      "text/plain": [
       "  0%|          | 0/600 [00:00<?, ?it/s]"
      ]
     },
     "metadata": {},
     "output_type": "display_data"
    },
    {
     "data": {
      "application/vnd.jupyter.widget-view+json": {
       "model_id": "a277748e63eb420893b97b60a1f90443",
       "version_major": 2,
       "version_minor": 0
      },
      "text/plain": [
       "  0%|          | 0/600 [00:00<?, ?it/s]"
      ]
     },
     "metadata": {},
     "output_type": "display_data"
    },
    {
     "data": {
      "application/vnd.jupyter.widget-view+json": {
       "model_id": "1e8b79997aea411a84cead9150c6a828",
       "version_major": 2,
       "version_minor": 0
      },
      "text/plain": [
       "  0%|          | 0/600 [00:00<?, ?it/s]"
      ]
     },
     "metadata": {},
     "output_type": "display_data"
    },
    {
     "data": {
      "application/vnd.jupyter.widget-view+json": {
       "model_id": "d545b656cbeb4f8f85ac35b890a70a3b",
       "version_major": 2,
       "version_minor": 0
      },
      "text/plain": [
       "  0%|          | 0/600 [00:00<?, ?it/s]"
      ]
     },
     "metadata": {},
     "output_type": "display_data"
    },
    {
     "data": {
      "application/vnd.jupyter.widget-view+json": {
       "model_id": "775a2030a19c495690b8dc6cdfb28676",
       "version_major": 2,
       "version_minor": 0
      },
      "text/plain": [
       "  0%|          | 0/100 [00:00<?, ?it/s]"
      ]
     },
     "metadata": {},
     "output_type": "display_data"
    },
    {
     "name": "stdout",
     "output_type": "stream",
     "text": [
      "test accuracy : 0.9646999835968018\n"
     ]
    }
   ],
   "source": [
    "### YOUR CODE HERE\n",
    "\n",
    "%matplotlib inline\n",
    "\n",
    "import numpy as np\n",
    "import matplotlib.pyplot as plt\n",
    "import torch\n",
    "from tqdm.notebook import tqdm\n",
    "import torch.nn.functional as F\n",
    "from torchvision import datasets, transforms\n",
    "\n",
    "#Loding the MNIST dataset\n",
    "mnist_train = datasets.MNIST(root=\"./datasets\", train = True, transform = transforms.ToTensor(), download = True)\n",
    "mnist_test = datasets.MNIST(root=\"./datasets\", train = False, transform = transforms.ToTensor(), download = True)\n",
    "\n",
    "train_loader = torch.utils.data.DataLoader(mnist_train, batch_size = 100, shuffle = True)\n",
    "test_loader = torch.utils.data.DataLoader(mnist_test, batch_size = 100, shuffle = False)\n",
    "\n",
    "#Initialize the trainable parameters\n",
    "W1 = torch.randn(784,500)/np.sqrt(784)\n",
    "W1.requires_grad_()\n",
    "\n",
    "W2 = torch.randn(500,10)/np.sqrt(784)\n",
    "W2.requires_grad_()\n",
    "\n",
    "b1=torch.zeros(500,requires_grad = True)\n",
    "b2=torch.zeros(10,requires_grad = True)\n",
    "\n",
    "optimizer = torch.optim.SGD([W1,W2,b1,b2],lr=0.1)\n",
    "\n",
    "#Training the model\n",
    "epoches = 5\n",
    "for epoch in range(epoches):\n",
    "    for images,labels in tqdm(train_loader):\n",
    "        optimizer.zero_grad()\n",
    "        x=images.view(-1,28*28)\n",
    "        y1=torch.matmul(x,W1)+b1\n",
    "        x_relu_F = F.relu(y1)\n",
    "        y=torch.matmul(x_relu_F,W2)+b2\n",
    "        cross_entropy = F.cross_entropy(y,labels)\n",
    "        cross_entropy.backward()\n",
    "        optimizer.step()\n",
    "\n",
    "#Test the model\n",
    "correct = 0\n",
    "total = len(mnist_test)\n",
    "\n",
    "with torch.no_grad():\n",
    "    for images, labels in tqdm(test_loader):\n",
    "        x = images.view(-1,28*28)\n",
    "        y1=torch.matmul(x,W1)+b1\n",
    "        x_relu_F = F.relu(y1)\n",
    "        y=torch.matmul(x_relu_F,W2)+b2\n",
    "        predictions = torch.argmax(y,dim=1)\n",
    "        correct += torch.sum((predictions==labels).float())\n",
    "print(\"test accuracy : {}\".format(correct/total))\n",
    "\n",
    "# Make sure to print out your accuracy on the test set at the end."
   ]
  }
 ],
 "metadata": {
  "kernelspec": {
   "display_name": "Python 3",
   "language": "python",
   "name": "python3"
  },
  "language_info": {
   "codemirror_mode": {
    "name": "ipython",
    "version": 3
   },
   "file_extension": ".py",
   "mimetype": "text/x-python",
   "name": "python",
   "nbconvert_exporter": "python",
   "pygments_lexer": "ipython3",
   "version": "3.8.8"
  }
 },
 "nbformat": 4,
 "nbformat_minor": 5
}
